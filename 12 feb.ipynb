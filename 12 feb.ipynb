{
 "cells": [
  {
   "cell_type": "markdown",
   "id": "f82893df-b872-46e6-bcaa-80202dd1b02d",
   "metadata": {},
   "source": [
    "Q1\n",
    "\n",
    "Exception is a inbuilt super class in a python. Exception is used to handle the error during execution of any program and that we called as exception handling.\n",
    "\n",
    "By using exception and some inbuilt keywords like 'try' and 'except' our program doesn't terminate it will continue its execution.\n",
    "\n",
    "There are two types of ERRORS: 1..Syntax errors 2..Exceptions\n",
    "\n",
    "1..Syntax Errors-- This error is caused by writing a invalid syntax. this lead to termination of our program.\n",
    "\n",
    "2..Exception -- By using Exception if errror found then it doen't terminate the program but continues to execution. here the error is getting not only about the syntax but also our value or arguments is passing wrongly.\n",
    "\n",
    "The differnce between this two error is that the if syntax error found it will terminate the program and Exception does not."
   ]
  },
  {
   "cell_type": "markdown",
   "id": "54e86291-34ea-4b49-b509-68ab8d63575f",
   "metadata": {},
   "source": [
    "Q2\n",
    "\n",
    "if Exception not handled then our code will disrupts and throws an error"
   ]
  },
  {
   "cell_type": "code",
   "execution_count": 1,
   "id": "6b8d2c43-6e2a-47c3-b9ca-fd19f2461b78",
   "metadata": {},
   "outputs": [
    {
     "ename": "ZeroDivisionError",
     "evalue": "division by zero",
     "output_type": "error",
     "traceback": [
      "\u001b[0;31m---------------------------------------------------------------------------\u001b[0m",
      "\u001b[0;31mZeroDivisionError\u001b[0m                         Traceback (most recent call last)",
      "Cell \u001b[0;32mIn[1], line 2\u001b[0m\n\u001b[1;32m      1\u001b[0m \u001b[38;5;28;01mtry\u001b[39;00m:\n\u001b[0;32m----> 2\u001b[0m     a \u001b[38;5;241m=\u001b[39m \u001b[38;5;241;43m1\u001b[39;49m\u001b[38;5;241;43m/\u001b[39;49m\u001b[38;5;241;43m0\u001b[39;49m\n\u001b[1;32m      3\u001b[0m     \u001b[38;5;28mprint\u001b[39m(a)\n\u001b[1;32m      4\u001b[0m \u001b[38;5;28;01mexcept\u001b[39;00m \u001b[38;5;167;01mAttributeError\u001b[39;00m \u001b[38;5;28;01mas\u001b[39;00m e:\n",
      "\u001b[0;31mZeroDivisionError\u001b[0m: division by zero"
     ]
    }
   ],
   "source": [
    "try:\n",
    "    a = 1/0\n",
    "    print(a)\n",
    "except AttributeError as e:\n",
    "    print(e)"
   ]
  },
  {
   "cell_type": "markdown",
   "id": "b4ec1936-7c94-4347-8cea-80631a4a7ace",
   "metadata": {},
   "source": [
    "Q3.\n",
    "\n",
    "' try ' and ' except ' are used to catch and handle exceptions respectively."
   ]
  },
  {
   "cell_type": "code",
   "execution_count": 2,
   "id": "00d51d76-bce3-4114-af12-9b9c33efcbbf",
   "metadata": {},
   "outputs": [
    {
     "name": "stdout",
     "output_type": "stream",
     "text": [
      "division by zero\n"
     ]
    }
   ],
   "source": [
    "try:\n",
    "    a = 1/0\n",
    "    a\n",
    "except Exception as e:\n",
    "    print(e)"
   ]
  },
  {
   "cell_type": "markdown",
   "id": "d238b463-3d56-46a9-8ba7-38dff25b1eb7",
   "metadata": {},
   "source": [
    "In above program try statement is used to catch the code, if the code is correct then it will execute successfuly but in above case code is syntax wise correct but not the value type so the try statement will try to execute the program but because of value type it pass this to except statement there this error will handled successfully."
   ]
  },
  {
   "cell_type": "markdown",
   "id": "06149b0e-782d-4b0c-a095-b6134c968db5",
   "metadata": {},
   "source": [
    "Q4\n",
    "\n",
    "a.. try and else : try statement is used to catch the program first if program was succefully execute then only it goes to remaining statement except 'except' statement.\n",
    "\n",
    "else: else is the statement which will only execute on succesfully execution of try statement.\n",
    "\n",
    "b.. finally: finally is the statement which will execute in any situation even if ther is error or exceptin.\n",
    "\n",
    "c.. raise: raise statement is used to raise an custom exceptions."
   ]
  },
  {
   "cell_type": "code",
   "execution_count": 3,
   "id": "67cc952c-7b46-4004-b25c-10064ffa1a21",
   "metadata": {},
   "outputs": [
    {
     "name": "stdout",
     "output_type": "stream",
     "text": [
      "40\n",
      "On successfull execution of try\n",
      "In any situation finally will print\n"
     ]
    }
   ],
   "source": [
    "try :\n",
    "    a = 10 + 30\n",
    "    print(a) \n",
    "except Exception as e:\n",
    "    print(e)\n",
    "else:\n",
    "    print(\"On successfull execution of try\")\n",
    "finally:\n",
    "    print(\"In any situation finally will print\")"
   ]
  },
  {
   "cell_type": "markdown",
   "id": "71551402-84df-4930-967e-a0aac103329b",
   "metadata": {},
   "source": [
    "Q5\n",
    "\n",
    "Custom Exception are those exception which are defined by users.\n",
    "\n",
    "Custom Exception are neccessary when we working on a real time project because built in exception are only related to python problems but here we can give from ourself a better idea or project related information exception.\n",
    "\n",
    "suppose if we talk about voting we know that we only vote above 18 but python doesn't know this criteria that were we use custom exception to raise our issue or any related information."
   ]
  },
  {
   "cell_type": "markdown",
   "id": "7563f595-20e1-41d0-a7a0-d3d8e8a6e663",
   "metadata": {},
   "source": [
    "Q6."
   ]
  },
  {
   "cell_type": "code",
   "execution_count": 6,
   "id": "689db1b4-b248-4930-9b30-6e6749e35307",
   "metadata": {},
   "outputs": [],
   "source": [
    "class voting(Exception):\n",
    "    def __init__(self,msg):\n",
    "        self.msg = msg"
   ]
  },
  {
   "cell_type": "code",
   "execution_count": 8,
   "id": "e45e4570-04ef-4d67-b828-895d2cf24c01",
   "metadata": {},
   "outputs": [],
   "source": [
    "def validage(age):\n",
    "    if age > 18:\n",
    "        raise voting(\"Yes you are eligible for voting\")\n",
    "    elif age<= 18:\n",
    "        raise voting(\"No you can't vote right now\")"
   ]
  },
  {
   "cell_type": "code",
   "execution_count": 9,
   "id": "607eb4c9-0b7f-4ce9-9f0a-dcc9edc5f27c",
   "metadata": {},
   "outputs": [
    {
     "name": "stdin",
     "output_type": "stream",
     "text": [
      "Enter your age 21\n"
     ]
    },
    {
     "name": "stdout",
     "output_type": "stream",
     "text": [
      "Yes you are eligible for voting\n"
     ]
    }
   ],
   "source": [
    "try:\n",
    "    age = int(input(\"Enter your age\"))\n",
    "    validage(age)\n",
    "except voting as e:\n",
    "    print(e)"
   ]
  },
  {
   "cell_type": "code",
   "execution_count": null,
   "id": "f8f7ba83-3ca6-4aaf-9132-8c7511d69c4f",
   "metadata": {},
   "outputs": [],
   "source": []
  }
 ],
 "metadata": {
  "kernelspec": {
   "display_name": "Python 3 (ipykernel)",
   "language": "python",
   "name": "python3"
  },
  "language_info": {
   "codemirror_mode": {
    "name": "ipython",
    "version": 3
   },
   "file_extension": ".py",
   "mimetype": "text/x-python",
   "name": "python",
   "nbconvert_exporter": "python",
   "pygments_lexer": "ipython3",
   "version": "3.10.8"
  }
 },
 "nbformat": 4,
 "nbformat_minor": 5
}
